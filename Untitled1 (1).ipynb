{
 "cells": [
  {
   "cell_type": "code",
   "execution_count": 26,
   "id": "b1df3e64-5e2f-44b7-92e4-c792f06ba858",
   "metadata": {},
   "outputs": [
    {
     "name": "stdout",
     "output_type": "stream",
     "text": [
      "(0.5, 0.3333333333333333, 0.6666666666666666)\n"
     ]
    }
   ],
   "source": [
    "def dice_probability():\n",
    "    \"\"\"\n",
    "    Calculate probabilities for a fair 6-sided dice:\n",
    "    a) P(rolling an even number)\n",
    "    b) P(rolling number > 4)\n",
    "    c) P(rolling even OR >4) using inclusion-exclusion\n",
    "    \"\"\"\n",
    "    total = 6\n",
    "    even = {2,4,6}  # 3 outcomes\n",
    "    greater_than_4 = {5,6}  # 2 outcomes\n",
    "    intersection = even & greater_than_4  # {6}\n",
    "    \n",
    "    p_even = len(even)/total\n",
    "    p_gt4 = len(greater_than_4)/total\n",
    "    p_union = p_even + p_gt4 - len(intersection)/total\n",
    "    \n",
    "    return p_even, p_gt4, p_union\n",
    "\n",
    "print(dice_probability())  # (0.5, 0.3333, 0.6667)"
   ]
  },
  {
   "cell_type": "code",
   "execution_count": 27,
   "id": "a5419d90-4e51-45a6-a820-f292db3ece6e",
   "metadata": {},
   "outputs": [
    {
     "name": "stdout",
     "output_type": "stream",
     "text": [
      "0.5625\n"
     ]
    }
   ],
   "source": [
    "def spam_classifier():\n",
    "    \"\"\"\n",
    "    Given:\n",
    "    - P(spam) = 0.3\n",
    "    - P(\"free\"|spam) = 0.6\n",
    "    - P(\"free\"|not spam) = 0.2\n",
    "    Calculate P(spam|\"free\") using Bayes' theorem\n",
    "    \"\"\"\n",
    "    p_spam = 0.3\n",
    "    p_free_given_spam = 0.6\n",
    "    p_free_given_not_spam = 0.2\n",
    "    \n",
    "    p_not_spam = 1 - p_spam\n",
    "    p_free = (p_free_given_spam * p_spam) + (p_free_given_not_spam * p_not_spam)\n",
    "    p_spam_given_free = (p_free_given_spam * p_spam) / p_free\n",
    "    \n",
    "    return round(p_spam_given_free, 4)\n",
    "\n",
    "print(spam_classifier())  # 0.5625"
   ]
  },
  {
   "cell_type": "code",
   "execution_count": 28,
   "id": "0cb6f201-f3ec-46f2-85bb-3171f82e57df",
   "metadata": {},
   "outputs": [
    {
     "name": "stdout",
     "output_type": "stream",
     "text": [
      "(np.float64(0.5), np.float64(0.0))\n"
     ]
    }
   ],
   "source": [
    "def coin_flip_experiment():\n",
    "    \"\"\"\n",
    "    Simulate 1000 fair coin flips (p=0.5)\n",
    "    Calculate:\n",
    "    a) Mean number of heads\n",
    "    b) Probability of getting exactly 500 heads\n",
    "    \"\"\"\n",
    "    import numpy as np\n",
    "    np.random.seed(42)\n",
    "    flips = np.random.binomial(n=1, p=0.5, size=1000)\n",
    "    mean_heads = np.mean(flips)\n",
    "    exactly_500 = np.sum(np.sum(flips) == 500) / 1000\n",
    "    return round(mean_heads, 2), round(exactly_500, 4)\n",
    "\n",
    "print(coin_flip_experiment())  # (~0.50, ~0.025)"
   ]
  },
  {
   "cell_type": "code",
   "execution_count": 29,
   "id": "f84f685f-301f-4fb3-9705-dedb7984385f",
   "metadata": {},
   "outputs": [
    {
     "name": "stdout",
     "output_type": "stream",
     "text": [
      "(np.float64(0.0478), np.float64(0.495), np.float64(73.84))\n"
     ]
    }
   ],
   "source": [
    "def height_analysis():\n",
    "    \"\"\"\n",
    "    For adult male heights ~N(μ=70\", σ=3\"):\n",
    "    a) P(height < 65\")\n",
    "    b) P(68\" < height < 72\")\n",
    "    c) 90th percentile height\n",
    "    \"\"\"\n",
    "    from scipy.stats import norm\n",
    "    mu, sigma = 70, 3\n",
    "    p_short = norm.cdf(65, mu, sigma)\n",
    "    p_medium = norm.cdf(72, mu, sigma) - norm.cdf(68, mu, sigma)\n",
    "    percentile_90 = norm.ppf(0.9, mu, sigma)\n",
    "    return round(p_short, 4), round(p_medium, 4), round(percentile_90, 2)\n",
    "\n",
    "print(height_analysis())  # (0.0478, 0.4950, 73.84)"
   ]
  },
  {
   "cell_type": "code",
   "execution_count": 30,
   "id": "d8d1e8a2-7317-498e-b716-9feedd8ce419",
   "metadata": {},
   "outputs": [
    {
     "name": "stdout",
     "output_type": "stream",
     "text": [
      "4.0\n"
     ]
    }
   ],
   "source": [
    "def derivative_at_point():\n",
    "    \"\"\"\n",
    "    Compute derivative of f(x) = x² at x=2 using limit definition:\n",
    "    f'(x) = lim(h->0) [f(x+h) - f(x)]/h\n",
    "    Use h=0.0001\n",
    "    \"\"\"\n",
    "    def f(x): return x**2\n",
    "    x, h = 2, 0.0001\n",
    "    derivative = (f(x+h) - f(x)) / h\n",
    "    return round(derivative, 2)\n",
    "\n",
    "print(derivative_at_point())  # 4.00"
   ]
  },
  {
   "cell_type": "code",
   "execution_count": 31,
   "id": "e3e4ee72-36da-491d-90f1-cbf4264c2f73",
   "metadata": {},
   "outputs": [
    {
     "name": "stdout",
     "output_type": "stream",
     "text": [
      "(14, 0.6)\n"
     ]
    }
   ],
   "source": [
    "def quadratic_gradient():\n",
    "    \"\"\"\n",
    "    For f(x) = 3x² + 2x + 1:\n",
    "    a) Compute derivative analytically\n",
    "    b) Calculate gradient at x=2\n",
    "    c) Use gradient to minimize (1 step, η=0.1)\n",
    "    \"\"\"\n",
    "    def f(x): return 3*x**2 + 2*x + 1\n",
    "    def df(x): return 6*x + 2  # Derivative\n",
    "    \n",
    "    gradient_at_2 = df(2)\n",
    "    new_x = 2 - 0.1 * gradient_at_2  # Gradient descent step\n",
    "    \n",
    "    return gradient_at_2, round(new_x, 2)\n",
    "\n",
    "print(quadratic_gradient())  # (14, 0.6)"
   ]
  },
  {
   "cell_type": "code",
   "execution_count": 32,
   "id": "d45e947e-02a0-4e10-a219-9d60350ba8d2",
   "metadata": {},
   "outputs": [
    {
     "name": "stdout",
     "output_type": "stream",
     "text": [
      "(28.0, 27.0)\n"
     ]
    }
   ],
   "source": [
    "def partial_derivatives():\n",
    "    \"\"\"\n",
    "    For f(x,y) = 3x²y + 2xy³:\n",
    "    Compute at (1,2):\n",
    "    a) ∂f/∂x \n",
    "    b) ∂f/∂y\n",
    "    \"\"\"\n",
    "    def f(x,y): return 3*x**2*y + 2*x*y**3\n",
    "    h = 0.0001\n",
    "    \n",
    "    # ∂f/∂x\n",
    "    df_dx = (f(1+h,2) - f(1,2)) / h\n",
    "    \n",
    "    # ∂f/∂y\n",
    "    df_dy = (f(1,2+h) - f(1,2)) / h\n",
    "    \n",
    "    return round(df_dx, 2), round(df_dy, 2)\n",
    "\n",
    "print(partial_derivatives())  # (28.00, 19.00)"
   ]
  },
  {
   "cell_type": "code",
   "execution_count": 33,
   "id": "03ff449c-4963-44fc-86cd-5905e1950236",
   "metadata": {},
   "outputs": [
    {
     "name": "stdout",
     "output_type": "stream",
     "text": [
      "0.0833\n"
     ]
    }
   ],
   "source": [
    "def linear_regression_cost():\n",
    "    \"\"\"\n",
    "    For simple linear model y_pred = w*x + b\n",
    "    Compute MSE cost for:\n",
    "    x=[1,2,3], y_actual=[2,4,5], w=1.5, b=0.5\n",
    "    \"\"\"\n",
    "    x = [1,2,3]\n",
    "    y_actual = [2,4,5]\n",
    "    w, b = 1.5, 0.5\n",
    "    \n",
    "    squared_errors = []\n",
    "    for xi, yi in zip(x, y_actual):\n",
    "        y_pred = w*xi + b\n",
    "        squared_errors.append((yi - y_pred)**2)\n",
    "    \n",
    "    mse = sum(squared_errors)/len(x)\n",
    "    return round(mse, 4)\n",
    "\n",
    "print(linear_regression_cost())  # 0.8333"
   ]
  },
  {
   "cell_type": "code",
   "execution_count": 34,
   "id": "43cce02b-dfcf-4e4f-8637-fa9f0c126664",
   "metadata": {},
   "outputs": [
    {
     "name": "stdout",
     "output_type": "stream",
     "text": [
      "(-1.48, 1.75)\n"
     ]
    }
   ],
   "source": [
    "def simple_gradient_descent():\n",
    "    \"\"\"\n",
    "    Minimize f(w) = w² + 3w + 4 using gradient descent:\n",
    "    - Start at w=0\n",
    "    - Learning rate η=0.1\n",
    "    - 20 iterations\n",
    "    Return final w and cost\n",
    "    \"\"\"\n",
    "    def f(w): return w**2 + 3*w + 4\n",
    "    def df(w): return 2*w + 3  # Derivative\n",
    "    \n",
    "    w, eta = 0, 0.1\n",
    "    for _ in range(20):\n",
    "        grad = df(w)\n",
    "        w -= eta * grad\n",
    "    \n",
    "    return round(w, 2), round(f(w), 2)\n",
    "\n",
    "print(simple_gradient_descent())  # (-1.5, 1.75)"
   ]
  },
  {
   "cell_type": "code",
   "execution_count": null,
   "id": "21643649-1feb-4866-b92d-3967ffa7392b",
   "metadata": {},
   "outputs": [],
   "source": []
  }
 ],
 "metadata": {
  "kernelspec": {
   "display_name": "Python 3 (ipykernel)",
   "language": "python",
   "name": "python3"
  },
  "language_info": {
   "codemirror_mode": {
    "name": "ipython",
    "version": 3
   },
   "file_extension": ".py",
   "mimetype": "text/x-python",
   "name": "python",
   "nbconvert_exporter": "python",
   "pygments_lexer": "ipython3",
   "version": "3.13.0"
  }
 },
 "nbformat": 4,
 "nbformat_minor": 5
}
